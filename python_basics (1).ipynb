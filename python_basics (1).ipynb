{
 "cells": [
  {
   "cell_type": "markdown",
   "id": "becac1d8-daa4-4ec9-89b5-fa7eba12391d",
   "metadata": {},
   "source": [
    "Q1. Create one variable containing following type of data:\n"
   ]
  },
  {
   "cell_type": "code",
   "execution_count": 5,
   "id": "0d8aedb4-e185-48e7-a0a8-023bd302f853",
   "metadata": {},
   "outputs": [
    {
     "name": "stdout",
     "output_type": "stream",
     "text": [
      "string in a single quote\n",
      "string in a double quote\n"
     ]
    },
    {
     "data": {
      "text/plain": [
       "str"
      ]
     },
     "execution_count": 5,
     "metadata": {},
     "output_type": "execute_result"
    }
   ],
   "source": [
    "a= 'string in a single quote'\n",
    "b = \"string in a double quote\"\n",
    "\n",
    "print(a)\n",
    "print(b)\n",
    "type(a)\n",
    "type(b)\n",
    "#we can create string using single quote as well as double quote"
   ]
  },
  {
   "cell_type": "code",
   "execution_count": 6,
   "id": "00e0ad35-30c1-4226-8a00-d6a7bf0f40a6",
   "metadata": {},
   "outputs": [
    {
     "name": "stdout",
     "output_type": "stream",
     "text": [
      "['hey', 'you', 1, 2, 3, 'go']\n"
     ]
    },
    {
     "data": {
      "text/plain": [
       "list"
      ]
     },
     "execution_count": 6,
     "metadata": {},
     "output_type": "execute_result"
    }
   ],
   "source": [
    "#list of having both integers and strings\n",
    "c= [\"hey\",\"you\",1,2,3,\"go\"]\n",
    "print(c)\n",
    "type(c)"
   ]
  },
  {
   "cell_type": "code",
   "execution_count": 8,
   "id": "23c4e21e-5488-4156-83b3-9665c29a01a6",
   "metadata": {},
   "outputs": [
    {
     "name": "stdout",
     "output_type": "stream",
     "text": [
      "10.2345\n"
     ]
    },
    {
     "data": {
      "text/plain": [
       "float"
      ]
     },
     "execution_count": 8,
     "metadata": {},
     "output_type": "execute_result"
    }
   ],
   "source": [
    "#create a variable with float value.\n",
    "a=10.2345\n",
    "print(a)\n",
    "type(a)"
   ]
  },
  {
   "cell_type": "code",
   "execution_count": 11,
   "id": "92a40e38-1891-46c0-9433-8d755ec44962",
   "metadata": {},
   "outputs": [
    {
     "name": "stdout",
     "output_type": "stream",
     "text": [
      "('hello', 1, 2, 3, 'go')\n"
     ]
    },
    {
     "data": {
      "text/plain": [
       "tuple"
      ]
     },
     "execution_count": 11,
     "metadata": {},
     "output_type": "execute_result"
    }
   ],
   "source": [
    "#tuple having multiple type of data.\n",
    "x=(\"hello\", 1,2,3,\"go\")\n",
    "print(x)\n",
    "type(x)\n",
    "#prints the whole tuple"
   ]
  },
  {
   "cell_type": "markdown",
   "id": "afcce965-a68e-4660-9dbb-4bf2b2c71b14",
   "metadata": {},
   "source": [
    "\n",
    "Q2. Given are some following variables containing data:"
   ]
  },
  {
   "cell_type": "code",
   "execution_count": 23,
   "id": "024fca78-1e10-4427-af3e-f303c84fc5d4",
   "metadata": {},
   "outputs": [
    {
     "data": {
      "text/plain": [
       "str"
      ]
     },
     "execution_count": 23,
     "metadata": {},
     "output_type": "execute_result"
    }
   ],
   "source": [
    "var1 = ''\n",
    "type(var1)"
   ]
  },
  {
   "cell_type": "code",
   "execution_count": 24,
   "id": "66ae4635-0063-4e42-bf99-c00b394b901d",
   "metadata": {},
   "outputs": [
    {
     "data": {
      "text/plain": [
       "str"
      ]
     },
     "execution_count": 24,
     "metadata": {},
     "output_type": "execute_result"
    }
   ],
   "source": [
    "var2 = '[ DS , ML , Python]'\n",
    "type(var2)"
   ]
  },
  {
   "cell_type": "code",
   "execution_count": 25,
   "id": "75288667-dcad-48fa-9678-6196888e0f29",
   "metadata": {},
   "outputs": [
    {
     "data": {
      "text/plain": [
       "list"
      ]
     },
     "execution_count": 25,
     "metadata": {},
     "output_type": "execute_result"
    }
   ],
   "source": [
    "var3 = [ 'DS' , 'ML' , 'Python' ]\n",
    "type(var3)"
   ]
  },
  {
   "cell_type": "code",
   "execution_count": 26,
   "id": "da5b4d82-6443-4bb5-bdb3-29792f0f6caa",
   "metadata": {},
   "outputs": [
    {
     "data": {
      "text/plain": [
       "int"
      ]
     },
     "execution_count": 26,
     "metadata": {},
     "output_type": "execute_result"
    }
   ],
   "source": [
    "var4 = 1\n",
    "type(var4)"
   ]
  },
  {
   "cell_type": "markdown",
   "id": "dd0fee56-a13b-4e88-b7ba-65c391f96659",
   "metadata": {},
   "source": [
    "4.Create a list of length 10 of your choice containing multiple types of data. Using for loop print the\n",
    "element and its data type."
   ]
  },
  {
   "cell_type": "code",
   "execution_count": 42,
   "id": "04d69f9d-565e-4029-947a-beea48cf70da",
   "metadata": {},
   "outputs": [
    {
     "name": "stdout",
     "output_type": "stream",
     "text": [
      "hey <class 'str'>\n",
      "you <class 'str'>\n",
      "1 <class 'int'>\n",
      "2 <class 'int'>\n",
      "3 <class 'int'>\n",
      "go <class 'str'>\n",
      "1.01 <class 'float'>\n",
      " pankaj <class 'str'>\n",
      "pwskils <class 'str'>\n",
      "7 <class 'int'>\n"
     ]
    }
   ],
   "source": [
    "c= [\"hey\",\"you\",1,2,3,\"go\", 1.01,\" pankaj\", 'pwskils',7]\n",
    "for x in range(len(c)):\n",
    "    print ((c[x]), type(c[x]))"
   ]
  },
  {
   "cell_type": "markdown",
   "id": "737060c6-5186-4669-8cac-8b4a6c50c833",
   "metadata": {},
   "source": [
    "Q5. Using a while loop, verify if the number A is purely divisible by number B and if so then how many\n",
    "times it can be divisible."
   ]
  },
  {
   "cell_type": "code",
   "execution_count": 1,
   "id": "5c2ed676-2541-4383-9386-f0fcb2ff6520",
   "metadata": {},
   "outputs": [
    {
     "name": "stdin",
     "output_type": "stream",
     "text": [
      "Enter the value of A 10\n",
      "Enter the value of B 5\n"
     ]
    },
    {
     "name": "stdout",
     "output_type": "stream",
     "text": [
      "2.0\n"
     ]
    }
   ],
   "source": [
    "a=int(input('Enter the value of A' ))\n",
    "b=int(input('Enter the value of B'))\n",
    "c=a/b\n",
    "while a % b == 0:\n",
    "    print(c)\n",
    "    break \n",
    "else:\n",
    "    print(\"Not divisible by\")\n",
    "\n",
    "        \n",
    "         \n",
    "        \n"
   ]
  },
  {
   "cell_type": "markdown",
   "id": "ea91faf8-7a20-44e4-b991-9502d2cd1e37",
   "metadata": {},
   "source": [
    "Q6. Create a list containing 25 int type data. Using for loop and if-else condition print if the element is\n",
    "divisible by 3 or not.\n"
   ]
  },
  {
   "cell_type": "code",
   "execution_count": 2,
   "id": "1dff1322-7e5c-43f7-bd39-55716226ff35",
   "metadata": {},
   "outputs": [
    {
     "name": "stdout",
     "output_type": "stream",
     "text": [
      "not divisible by 3\n",
      "not divisible by 3\n",
      "divisible by 3\n",
      "divisible by 3\n",
      "divisible by 3\n",
      "divisible by 3\n",
      "divisible by 3\n",
      "not divisible by 3\n",
      "divisible by 3\n",
      "not divisible by 3\n",
      "divisible by 3\n",
      "divisible by 3\n",
      "not divisible by 3\n",
      "not divisible by 3\n",
      "divisible by 3\n",
      "divisible by 3\n",
      "divisible by 3\n",
      "not divisible by 3\n",
      "divisible by 3\n",
      "divisible by 3\n",
      "not divisible by 3\n",
      "not divisible by 3\n",
      "divisible by 3\n",
      "divisible by 3\n",
      "divisible by 3\n"
     ]
    }
   ],
   "source": [
    "l=[1,25,63,36,18,72,33,23,24,37,42,27,25,26,21,99,57,97,108,111,125,124,363,666,852]\n",
    "\n",
    "for i in range(len(l)):\n",
    "    if l[i] % 3 == 0:\n",
    "        print(\"divisible by 3\")\n",
    "    else:\n",
    "        print(\"not divisible by 3\")\n",
    "   \n",
    "    \n",
    "    \n"
   ]
  },
  {
   "cell_type": "markdown",
   "id": "2e700b13-234d-40cc-8f55-5438de95ffcd",
   "metadata": {},
   "source": [
    "Q7. What do you understand about mutable and immutable data types? Give examples for both showing\n",
    "this property."
   ]
  },
  {
   "cell_type": "markdown",
   "id": "062c2adb-163b-4c0d-814c-39579121cbc4",
   "metadata": {},
   "source": [
    "Mutable Objects\t\n",
    "A mutable object can be changed after it is created.Examples : List, Set, Dictionary\n",
    "\n",
    "\n",
    "immutable object\n",
    "An immutable object cannot be changed after it is created Examples : Tuple"
   ]
  },
  {
   "cell_type": "code",
   "execution_count": 4,
   "id": "df988bcc-5b1c-4d62-9971-64ae489941ee",
   "metadata": {},
   "outputs": [
    {
     "data": {
      "text/plain": [
       "['hey', 'you', 'WE', 2, 3, 'go', 1.01, ' pankaj', 'pwskils', 7]"
      ]
     },
     "execution_count": 4,
     "metadata": {},
     "output_type": "execute_result"
    }
   ],
   "source": [
    "c = [\"hey\",\"you\",1,2,3,\"go\", 1.01,\" pankaj\", 'pwskils',7]\n",
    "c[2]=\"WE\"\n",
    "c\n",
    "#This is the example of mutable object/data type"
   ]
  },
  {
   "cell_type": "code",
   "execution_count": 5,
   "id": "6aef6ec3-cde0-4f56-aca8-ab3fc1d9d30b",
   "metadata": {},
   "outputs": [
    {
     "ename": "TypeError",
     "evalue": "'tuple' object does not support item assignment",
     "output_type": "error",
     "traceback": [
      "\u001b[0;31m---------------------------------------------------------------------------\u001b[0m",
      "\u001b[0;31mTypeError\u001b[0m                                 Traceback (most recent call last)",
      "Cell \u001b[0;32mIn[5], line 2\u001b[0m\n\u001b[1;32m      1\u001b[0m x\u001b[38;5;241m=\u001b[39m(\u001b[38;5;124m\"\u001b[39m\u001b[38;5;124mhello\u001b[39m\u001b[38;5;124m\"\u001b[39m, \u001b[38;5;241m1\u001b[39m,\u001b[38;5;241m2\u001b[39m,\u001b[38;5;241m3\u001b[39m,\u001b[38;5;124m\"\u001b[39m\u001b[38;5;124mgo\u001b[39m\u001b[38;5;124m\"\u001b[39m)\n\u001b[0;32m----> 2\u001b[0m \u001b[43mx\u001b[49m\u001b[43m[\u001b[49m\u001b[38;5;241;43m2\u001b[39;49m\u001b[43m]\u001b[49m\u001b[38;5;241m=\u001b[39m\u001b[38;5;241m7\u001b[39m\n\u001b[1;32m      3\u001b[0m x\n",
      "\u001b[0;31mTypeError\u001b[0m: 'tuple' object does not support item assignment"
     ]
    }
   ],
   "source": [
    "x=(\"hello\", 1,2,3,\"go\")\n",
    "x[2]=7\n",
    "x\n",
    "# we can not mutate tuple"
   ]
  },
  {
   "cell_type": "code",
   "execution_count": null,
   "id": "03b63cac-a331-404b-9350-6940fc0bf0c2",
   "metadata": {},
   "outputs": [],
   "source": []
  }
 ],
 "metadata": {
  "kernelspec": {
   "display_name": "Python 3 (ipykernel)",
   "language": "python",
   "name": "python3"
  },
  "language_info": {
   "codemirror_mode": {
    "name": "ipython",
    "version": 3
   },
   "file_extension": ".py",
   "mimetype": "text/x-python",
   "name": "python",
   "nbconvert_exporter": "python",
   "pygments_lexer": "ipython3",
   "version": "3.10.8"
  }
 },
 "nbformat": 4,
 "nbformat_minor": 5
}
